{
  "nbformat": 4,
  "nbformat_minor": 0,
  "metadata": {
    "colab": {
      "name": "MNIST Tensorflow.ipynb",
      "provenance": [],
      "authorship_tag": "ABX9TyN+amvu2mshRiprcvZUbDnj",
      "include_colab_link": true
    },
    "kernelspec": {
      "name": "python3",
      "display_name": "Python 3"
    }
  },
  "cells": [
    {
      "cell_type": "markdown",
      "metadata": {
        "id": "view-in-github",
        "colab_type": "text"
      },
      "source": [
        "<a href=\"https://colab.research.google.com/github/Adityamalik123/Softmax-Tensorflow/blob/master/MNIST_Tensorflow.ipynb\" target=\"_parent\"><img src=\"https://colab.research.google.com/assets/colab-badge.svg\" alt=\"Open In Colab\"/></a>"
      ]
    },
    {
      "cell_type": "code",
      "metadata": {
        "id": "oLt_hJf1D_rE",
        "colab_type": "code",
        "outputId": "f91b309d-9e9c-4bb4-adbe-5134556728d1",
        "colab": {
          "base_uri": "https://localhost:8080/",
          "height": 85
        }
      },
      "source": [
        "from tensorflow.examples.tutorials.mnist import input_data\n",
        "mnist = input_data.read_data_sets(\"MNIST_data/\", one_hot=True)"
      ],
      "execution_count": 0,
      "outputs": [
        {
          "output_type": "stream",
          "text": [
            "Extracting MNIST_data/train-images-idx3-ubyte.gz\n",
            "Extracting MNIST_data/train-labels-idx1-ubyte.gz\n",
            "Extracting MNIST_data/t10k-images-idx3-ubyte.gz\n",
            "Extracting MNIST_data/t10k-labels-idx1-ubyte.gz\n"
          ],
          "name": "stdout"
        }
      ]
    },
    {
      "cell_type": "code",
      "metadata": {
        "id": "39A3dqZLEc9G",
        "colab_type": "code",
        "colab": {}
      },
      "source": [
        "import numpy as np"
      ],
      "execution_count": 0,
      "outputs": []
    },
    {
      "cell_type": "code",
      "metadata": {
        "id": "cnRIzSPBEgHY",
        "colab_type": "code",
        "outputId": "a9a33b8d-9056-414d-ef25-96bc90d9d509",
        "colab": {
          "base_uri": "https://localhost:8080/",
          "height": 34
        }
      },
      "source": [
        "print(mnist.train.images.shape)"
      ],
      "execution_count": 0,
      "outputs": [
        {
          "output_type": "stream",
          "text": [
            "(55000, 784)\n"
          ],
          "name": "stdout"
        }
      ]
    },
    {
      "cell_type": "code",
      "metadata": {
        "id": "6R5WxREGVqa-",
        "colab_type": "code",
        "outputId": "62ac8863-e2a2-48ff-b5db-1083a8b025b6",
        "colab": {
          "base_uri": "https://localhost:8080/",
          "height": 34
        }
      },
      "source": [
        "print(mnist.test.labels.shape) # Vector of size 10 and 10000 test points"
      ],
      "execution_count": 0,
      "outputs": [
        {
          "output_type": "stream",
          "text": [
            "(10000, 10)\n"
          ],
          "name": "stdout"
        }
      ]
    },
    {
      "cell_type": "code",
      "metadata": {
        "id": "VCE5FK_TVuOD",
        "colab_type": "code",
        "colab": {}
      },
      "source": [
        "import tensorflow as tf"
      ],
      "execution_count": 0,
      "outputs": []
    },
    {
      "cell_type": "code",
      "metadata": {
        "id": "I1WmaEsYLFIx",
        "colab_type": "code",
        "outputId": "e86e8137-febe-40b6-a13f-27a6bda489e3",
        "colab": {
          "base_uri": "https://localhost:8080/",
          "height": 255
        }
      },
      "source": [
        "from tensorflow.python.client import device_lib\n",
        "print(device_lib.list_local_devices())"
      ],
      "execution_count": 0,
      "outputs": [
        {
          "output_type": "stream",
          "text": [
            "[name: \"/device:CPU:0\"\n",
            "device_type: \"CPU\"\n",
            "memory_limit: 268435456\n",
            "locality {\n",
            "}\n",
            "incarnation: 12241961843049026707\n",
            ", name: \"/device:XLA_CPU:0\"\n",
            "device_type: \"XLA_CPU\"\n",
            "memory_limit: 17179869184\n",
            "locality {\n",
            "}\n",
            "incarnation: 12630658253008205623\n",
            "physical_device_desc: \"device: XLA_CPU device\"\n",
            "]\n"
          ],
          "name": "stdout"
        }
      ]
    },
    {
      "cell_type": "markdown",
      "metadata": {
        "id": "zpFsoyqyMSf3",
        "colab_type": "text"
      },
      "source": [
        "**PlaceHolders and Variables**"
      ]
    },
    {
      "cell_type": "code",
      "metadata": {
        "id": "pfqit4uULqPq",
        "colab_type": "code",
        "colab": {}
      },
      "source": [
        "x = tf.placeholder(tf.float32, [None, 784]) # None says we don't know what it will be, we'll choose any number\n",
        "# We are defining here a 2D tensor\n",
        "# so x is a placeholder of type float32, which has 784 dimensions and number of such points is now known yet\n",
        "\n",
        "w = tf.Variable(tf.zeros([784, 10]))\n",
        "# As we have 784 inputs and here we are considering that we have a softmax which need to produce 10 outputs and hence 784X10\n",
        "b = tf.Variable(tf.zeros([10]))"
      ],
      "execution_count": 0,
      "outputs": []
    },
    {
      "cell_type": "code",
      "metadata": {
        "id": "QtE5if0mMIy7",
        "colab_type": "code",
        "colab": {}
      },
      "source": [
        "y = tf.nn.softmax(tf.matmul(x, w) + b)"
      ],
      "execution_count": 0,
      "outputs": []
    },
    {
      "cell_type": "code",
      "metadata": {
        "id": "LlMqJlx1gUUa",
        "colab_type": "code",
        "colab": {}
      },
      "source": [
        "y_ = tf.placeholder(tf.float32, [None, 10]) # true label of images"
      ],
      "execution_count": 0,
      "outputs": []
    },
    {
      "cell_type": "code",
      "metadata": {
        "id": "698M9AxPii44",
        "colab_type": "code",
        "colab": {}
      },
      "source": [
        "# Defining cross entropy error\n",
        "cross_entropy = tf.reduce_mean(-tf.reduce_sum(y_ * tf.log(y), reduction_indices = [1]))"
      ],
      "execution_count": 0,
      "outputs": []
    },
    {
      "cell_type": "code",
      "metadata": {
        "id": "UZEcBkCrp-IK",
        "colab_type": "code",
        "colab": {}
      },
      "source": [
        "train_step = tf.train.GradientDescentOptimizer(0.05).minimize(cross_entropy)"
      ],
      "execution_count": 0,
      "outputs": []
    },
    {
      "cell_type": "code",
      "metadata": {
        "id": "j9Jp79J_rIU4",
        "colab_type": "code",
        "outputId": "aade6a03-62be-4178-af5e-b70bd93eb99b",
        "colab": {
          "base_uri": "https://localhost:8080/",
          "height": 71
        }
      },
      "source": [
        "sess = tf.InteractiveSession()\n",
        "tf.global_variables_initializer().run()"
      ],
      "execution_count": 0,
      "outputs": [
        {
          "output_type": "stream",
          "text": [
            "/usr/local/lib/python3.6/dist-packages/tensorflow_core/python/client/session.py:1750: UserWarning: An interactive session is already active. This can cause out-of-memory errors in some cases. You must explicitly call `InteractiveSession.close()` to release resources held by the other session(s).\n",
            "  warnings.warn('An interactive session is already active. This can '\n"
          ],
          "name": "stderr"
        }
      ]
    },
    {
      "cell_type": "code",
      "metadata": {
        "id": "Wu1YsHMusRqL",
        "colab_type": "code",
        "colab": {}
      },
      "source": [
        "for _ in range(1000): # 1000 iterations\n",
        "  batch_xs, batch_ys = mnist.train.next_batch(100) # Getting mini batch\n",
        "  sess.run(train_step, feed_dict={x: batch_xs, y_: batch_ys})"
      ],
      "execution_count": 0,
      "outputs": []
    },
    {
      "cell_type": "code",
      "metadata": {
        "id": "KZtQVUSBtZTz",
        "colab_type": "code",
        "outputId": "984ccf51-4bb9-4af5-f584-782a69f13753",
        "colab": {
          "base_uri": "https://localhost:8080/",
          "height": 34
        }
      },
      "source": [
        "correct_prediction = tf.equal(tf.argmax(y, 1), tf.argmax(y_, 1))\n",
        "accuracy = tf.reduce_mean(tf.cast(correct_prediction, tf.float32))\n",
        "print(sess.run(accuracy, feed_dict={x: mnist.test.images, y_: mnist.test.labels}))"
      ],
      "execution_count": 0,
      "outputs": [
        {
          "output_type": "stream",
          "text": [
            "0.9009\n"
          ],
          "name": "stdout"
        }
      ]
    },
    {
      "cell_type": "code",
      "metadata": {
        "id": "5zrcpWdduuzs",
        "colab_type": "code",
        "colab": {}
      },
      "source": [
        "%matplotlib inline\n",
        "import matplotlib.pyplot as plt\n",
        "import numpy as np\n",
        "import time\n",
        "\n",
        "def plt_dynamic(x, y, y_1, ax, colors=['b']):\n",
        "  ax.plot(x, y, 'b', label = 'Train Loss')\n",
        "  ax.plot(x, y_1, 'r', label = 'Test Loss')\n",
        "  if len(x) == 1:\n",
        "    plt.legend()\n",
        "  fig.canvas.draw()\n"
      ],
      "execution_count": 0,
      "outputs": []
    },
    {
      "cell_type": "code",
      "metadata": {
        "id": "nUO2Na0_dYeH",
        "colab_type": "code",
        "outputId": "dfe6c446-914a-4568-dd98-3d05bc59a19c",
        "colab": {
          "base_uri": "https://localhost:8080/",
          "height": 300
        }
      },
      "source": [
        "#summarising everything in single file\n",
        "training_epochs = 15\n",
        "batch_size = 1000\n",
        "display_step = 1\n",
        "cross_entropy = tf.reduce_mean(tf.nn.softmax_cross_entropy_with_logits(logits = y, labels = y_))\n",
        "train_step = tf.train.GradientDescentOptimizer(0.05).minimize(cross_entropy)\n",
        "\n",
        "fig, ax = plt.subplots(1, 1)\n",
        "ax.set_xlabel('Epoch'); ax.set_ylabel('SoftMax Cross Entropy Loss')\n",
        "xs, ytrs, ytes = [], [], []\n",
        "\n",
        "for epoch in range(training_epochs):\n",
        "  train_avg_cost = 0\n",
        "  test_avg_cost = 0\n",
        "  total_batch = int(mnist.train.num_examples/batch_size)\n",
        "  for i in range(total_batch):\n",
        "    batch_xs, batch_ys = mnist.train.next_batch(batch_size)\n",
        "    _, c = sess.run([train_step, cross_entropy], feed_dict={x: batch_xs, y_: batch_ys})\n",
        "    train_avg_cost += c / total_batch\n",
        "    c = sess.run(cross_entropy, feed_dict={x: mnist.test.images, y_: mnist.test.labels})\n",
        "    test_avg_cost += c / total_batch\n",
        "\n",
        "  xs.append(epoch)\n",
        "  ytrs.append(train_avg_cost)\n",
        "  ytes.append(test_avg_cost)\n",
        "  plt_dynamic(xs, ytrs, ytes, ax)\n",
        "\n",
        "plt_dynamic(xs, ytrs, ytes, ax)\n",
        "correct_prediction = tf.equal(tf.argmax(y, 1), tf.argmax(y_, 1))\n",
        "accuracy = tf.reduce_mean(tf.cast(correct_prediction, tf.float32))\n",
        "print('accuracy', accuracy.eval({x: mnist.test.images, y_: mnist.test.labels}))\n"
      ],
      "execution_count": 0,
      "outputs": [
        {
          "output_type": "stream",
          "text": [
            "accuracy 0.9046\n"
          ],
          "name": "stdout"
        },
        {
          "output_type": "display_data",
          "data": {
            "image/png": "[encoded data removed]",
            "text/plain": [
              "<Figure size 432x288 with 1 Axes>"
            ]
          },
          "metadata": {
            "tags": []
          }
        }
      ]
    },
    {
      "cell_type": "code",
      "metadata": {
        "id": "wZr-LbEwjXyp",
        "colab_type": "code",
        "colab": {}
      },
      "source": [
        ""
      ],
      "execution_count": 0,
      "outputs": []
    }
  ]
}